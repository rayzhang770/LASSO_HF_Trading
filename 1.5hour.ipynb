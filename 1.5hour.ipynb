{
 "cells": [
  {
   "cell_type": "code",
   "execution_count": 1,
   "metadata": {
    "collapsed": true
   },
   "outputs": [],
   "source": [
    "import pandas as pd\n",
    "import numpy as np\n",
    "from sklearn.linear_model import Lasso\n",
    "from sklearn.linear_model import LassoCV\n",
    "from sklearn.linear_model import LinearRegression\n",
    "import random\n",
    "import time\n",
    "import warnings\n",
    "warnings.filterwarnings(\"ignore\")"
   ]
  },
  {
   "cell_type": "code",
   "execution_count": 2,
   "metadata": {
    "collapsed": true
   },
   "outputs": [],
   "source": [
    "def rand_ticker(n_ticker , ticker , no_stock , seed):\n",
    "    random.seed( seed )\n",
    "    ind = random.sample(range(n_ticker), no_stock)\n",
    "    ind.sort()\n",
    "        \n",
    "    smp = ticker[ind]\n",
    "    return smp\n",
    "\n",
    "def find_return(dat , SYM):\n",
    "    part = pd.Series()\n",
    "    for i in range(dat.shape[0]):\n",
    "        part = part.append(pd.Series(dat.iloc[i , 3 : dat.shape[1]]))\n",
    "    d = {\"SYM_ROOT\":SYM, \"RETURN\":part}\n",
    "    data = pd.DataFrame(data = d)\n",
    "    return data\n",
    "\n",
    "\n",
    "def assign_variable(dat1,dat2,name_list):\n",
    "    k = 0\n",
    "    for i in range(dat1.shape[0]):\n",
    "        for j in range(3):\n",
    "            part = pd.Series()\n",
    "            part = part.append(pd.Series(dat1.iloc[i , j:(dat1.shape[1] - 3 + j)]),ignore_index = True)\n",
    "            dat2[name_list[k]] = part\n",
    "            k += 1\n",
    "    return dat2"
   ]
  },
  {
   "cell_type": "code",
   "execution_count": 3,
   "metadata": {
    "collapsed": true
   },
   "outputs": [],
   "source": [
    "def preprocess(data , no_p = 389):\n",
    "\n",
    "    ticker = data.SYMBOL.unique()\n",
    "    n_ticker = len(ticker)\n",
    "    \n",
    "    data_tmp = data['TIME']\n",
    "    data_tmp = data_tmp.str.slice(start = 0,stop = -3)\n",
    "    data[\"TIME\"] = data_tmp\n",
    "    \n",
    "    data_c = data.groupby([\"SYMBOL\",\"TIME\"]).last()        # get the last price of each minute as price of each minute\n",
    "    data_BB = data_c.BB\n",
    "    data_BO = data_c.BO\n",
    "    data_BB = data_BB.unstack()\n",
    "    data_BO = data_BO.unstack()\n",
    "    data_price = (data_BB + data_BO) / 2    # mean of NBBO as stock price at t\n",
    "    \n",
    "    data_price = data_price.reindex_axis(sorted(data_price.columns, key = lambda x: (len(x),x)), axis = 1)\n",
    "\n",
    "    dat = np.log(data_price) - np.log(data_price.shift(1 , axis = 1)) \n",
    "\n",
    "    dat = dat.iloc[:,1:]              # remove the column of 9:30 \n",
    "    \n",
    "    \n",
    "    #####-------can be deleted when running full data-------#####\n",
    "    dat = dat.iloc[ : , : no_p]\n",
    "\n",
    "    dat = dat.fillna(0)   # impute NULL with 0\n",
    "    \n",
    "    SYM = list(ticker) * (dat.shape[1] - 3)\n",
    "    SYM.sort()\n",
    "\n",
    "\n",
    "    returns = find_return(dat , SYM)        # form dataframe of returns with 1st column ticker name, 2nd column minute return, all stocks in the same column\n",
    "    \n",
    "    name_list1 = [\"RETURN 3 MINS BEFORE\", \"RETURN 2 MINS BEFORE\", \"RETURN 1 MINS BEFORE\"]\n",
    "    name_list2 = sorted(list(set(SYM)))\n",
    "\n",
    "    name_list = []\n",
    "    for i in name_list2:\n",
    "        for j in name_list1:\n",
    "            name_list.append(i + ' ' + j)\n",
    "    \n",
    "\n",
    "    data_variable = pd.DataFrame(columns = name_list)\n",
    "    \n",
    "    data_0 = assign_variable(dat,data_variable,name_list)\n",
    "\n",
    "\n",
    "    return data_0 , returns , n_ticker , ticker \n",
    "\n"
   ]
  },
  {
   "cell_type": "markdown",
   "metadata": {},
   "source": [
    "### First do CV on 1.5-hour window to get the optimal λ, then apply the λ to the next 1.5 hours."
   ]
  },
  {
   "cell_type": "code",
   "execution_count": 5,
   "metadata": {
    "collapsed": true
   },
   "outputs": [],
   "source": [
    "def long_time_cv(data, no_stock , seed , lamb_range = None, fold = 3):\n",
    "    \n",
    "    data_0 , returns , n_ticker , ticker = preprocess(data)\n",
    "\n",
    "    if np.isfinite(data_0).sum().sum() != data_0.shape[0] * data_0.shape[1]:\n",
    "        return 'There is infinite number.'\n",
    "    else:\n",
    "\n",
    "        smp = rand_ticker(n_ticker , ticker , no_stock , seed)\n",
    "        \n",
    "\n",
    "        nr = data_0.shape[0]  # 386\n",
    "        n_pred = nr - 90     # n_pred = 296\n",
    "\n",
    "\n",
    "        pred = np.empty([n_pred, no_stock])\n",
    "        lamb = np.empty([4, no_stock])\n",
    "        num_var = np.empty([n_pred, no_stock])\n",
    "        \n",
    "        r2_adj = np.empty(no_stock) \n",
    "        \n",
    "\n",
    "        for i in range(no_stock):\n",
    "\n",
    "            y = returns[returns.SYM_ROOT == smp[i]].iloc[ : , 0] \n",
    "\n",
    "\n",
    "            for j in range(4):\n",
    "                X_train = data_0.iloc[90 * j : (90 * (j + 1)) , :]\n",
    "                y_train = y[90 * j : (j + 1) * 90 ]\n",
    "                fit = LassoCV(random_state = 0 , cv = fold , alphas = lamb_range).fit(X_train , y_train)\n",
    "                lamb[j , i] = fit.alpha_\n",
    "                      \n",
    "                if j in range(0 , 3):\n",
    "                      \n",
    "                    for l in range(90 * j + 60 , 90 * j + 150):\n",
    "                        train = data_0.iloc[l : (l + 30) , : ]\n",
    "                        train_y = y[l : (l + 30) ]\n",
    "                        test = data_0.iloc[l + 30 , :].reshape(1 , -1)\n",
    "\n",
    "                        fit1 = Lasso(alpha = lamb[j, i]).fit(train , train_y)\n",
    "                        num_var[l - 60 , i] = sum(fit1.coef_ != 0)\n",
    "                        pred[l - 60 , i] = fit1.predict(test)\n",
    "\n",
    "\n",
    "                if j == 3:\n",
    "                    for l in range(90 * j + 60 , nr - 30):\n",
    "                        train = data_0.iloc[l : (l + 30) , : ]\n",
    "                        train_y = y[l : (l + 30) ]\n",
    "                        test = data_0.iloc[l + 30 , :].reshape(1 , -1)\n",
    "\n",
    "                        fit1 = Lasso(alpha = lamb[j, i]).fit(train , train_y)\n",
    "                        pred[l -  60 , i] = fit1.predict(test)\n",
    "                        num_var[l - 60 , i] = sum(fit1.coef_ != 0)\n",
    "\n",
    "            # calculate lasso R^2\n",
    "            true_return = y[90 : ]\n",
    "            lr_lasso = LinearRegression().fit(pred[ : , i].reshape(-1 , 1) , true_return)\n",
    "            r2 = lr_lasso.score(pred[ : , i].reshape(-1 , 1) , true_return)\n",
    "            r2_adj[i] = 1 - (1 - r2) * (n_pred - 1) / (n_pred - 2)\n",
    "        \n",
    "        return pred , lamb , num_var , r2_adj \n",
    "\n",
    "  "
   ]
  },
  {
   "cell_type": "code",
   "execution_count": 7,
   "metadata": {
    "scrolled": true
   },
   "outputs": [],
   "source": [
    "date = ['01' , '02' ,'03' ,'04' ,'05' ,'08' ,'09' ,'10' ,'11' ,'12' ,'15' ,'16' ,'17' ,'18' ,'19' ,'22' ,'23' ,'24' ,'29' , '30' , '31']\n",
    "\n"
   ]
  },
  {
   "cell_type": "code",
   "execution_count": 6,
   "metadata": {
    "collapsed": true
   },
   "outputs": [],
   "source": [
    "def loop_over_time(date , no_stock , seed , lamb_range = None , fold = 3):\n",
    "    n = len(date)\n",
    "    lamb_0 = np.empty([no_stock , n])\n",
    "    num_var_0 = np.empty([no_stock , n])\n",
    "    r2_adj_0 = np.empty([no_stock , n])\n",
    "    \n",
    "    for i in range(len(date)):\n",
    "        dat_name = 'nbbo_201412' + date[i] + '.csv'\n",
    "        data = pd.read_csv(dat_name)\n",
    "        pred_tmp , lamb_tmp , num_var_tmp , r2_adj_tmp  = long_time_cv(data , no_stock , seed , lamb_range , fold)\n",
    "        lamb_0[ : , i] = np.mean(lamb_tmp , axis = 0)\n",
    "        num_var_0[ : , i] = np.mean(num_var_tmp , axis = 0)\n",
    "        r2_adj_0[ : , i] = r2_adj_tmp\n",
    "        \n",
    "    return lamb_0 , num_var_0 , r2_adj_0"
   ]
  },
  {
   "cell_type": "code",
   "execution_count": 8,
   "metadata": {
    "scrolled": true
   },
   "outputs": [],
   "source": [
    "date0 = date[:7]\n",
    "lamb_1 , num_var_1 , r2_adj_1 = loop_over_time(date0 , 50 , 5)"
   ]
  },
  {
   "cell_type": "code",
   "execution_count": 9,
   "metadata": {},
   "outputs": [
    {
     "data": {
      "text/plain": [
       "0.00041425128015926284"
      ]
     },
     "execution_count": 9,
     "metadata": {},
     "output_type": "execute_result"
    }
   ],
   "source": [
    "np.mean(np.mean(r2_adj_1))"
   ]
  },
  {
   "cell_type": "code",
   "execution_count": null,
   "metadata": {
    "collapsed": true
   },
   "outputs": [],
   "source": []
  }
 ],
 "metadata": {
  "kernelspec": {
   "display_name": "Python 3",
   "language": "python",
   "name": "python3"
  },
  "language_info": {
   "codemirror_mode": {
    "name": "ipython",
    "version": 3
   },
   "file_extension": ".py",
   "mimetype": "text/x-python",
   "name": "python",
   "nbconvert_exporter": "python",
   "pygments_lexer": "ipython3",
   "version": "3.6.3"
  }
 },
 "nbformat": 4,
 "nbformat_minor": 2
}
