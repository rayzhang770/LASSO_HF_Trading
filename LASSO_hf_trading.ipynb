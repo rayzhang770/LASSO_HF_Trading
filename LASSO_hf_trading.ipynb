{
 "cells": [
  {
   "cell_type": "markdown",
   "metadata": {},
   "source": [
    "# LASSO application in High-Frequency Trading"
   ]
  },
  {
   "cell_type": "markdown",
   "metadata": {},
   "source": [
    "## Part I. Original Version"
   ]
  },
  {
   "cell_type": "markdown",
   "metadata": {},
   "source": [
    "Here, we use 30 min estimation window to do CV to select the optimal lambda, and trial LASSO, AR(3) and combined strategy."
   ]
  },
  {
   "cell_type": "code",
   "execution_count": 4,
   "metadata": {},
   "outputs": [],
   "source": [
    "import pandas as pd\n",
    "import numpy as np\n",
    "from sklearn.linear_model import Lasso\n",
    "from sklearn.linear_model import LassoCV\n",
    "from sklearn.linear_model import LinearRegression\n",
    "import random\n",
    "import time"
   ]
  },
  {
   "cell_type": "code",
   "execution_count": 5,
   "metadata": {},
   "outputs": [],
   "source": [
    "import warnings\n",
    "warnings.filterwarnings(\"ignore\")"
   ]
  },
  {
   "cell_type": "code",
   "execution_count": 6,
   "metadata": {},
   "outputs": [],
   "source": [
    "def rand_ticker(n_ticker , ticker , no_stock , seed):\n",
    "    random.seed( seed )\n",
    "    ind = random.sample(range(n_ticker), no_stock)\n",
    "    ind.sort()\n",
    "        \n",
    "    smp = ticker[ind]\n",
    "    return smp\n"
   ]
  },
  {
   "cell_type": "code",
   "execution_count": 7,
   "metadata": {},
   "outputs": [],
   "source": [
    "def find_return(dat , SYM):\n",
    "    part = pd.Series()\n",
    "    for i in range(dat.shape[0]):\n",
    "        part = part.append(pd.Series(dat.iloc[i , 3 : dat.shape[1]]))\n",
    "    d = {\"SYM_ROOT\":SYM, \"RETURN\":part}\n",
    "    data = pd.DataFrame(data = d)\n",
    "    return data"
   ]
  },
  {
   "cell_type": "code",
   "execution_count": 8,
   "metadata": {},
   "outputs": [],
   "source": [
    "def assign_variable(dat1,dat2,name_list):\n",
    "    k = 0\n",
    "    for i in range(dat1.shape[0]):\n",
    "        for j in range(3):\n",
    "            part = pd.Series()\n",
    "            part = part.append(pd.Series(dat1.iloc[i , j:(dat1.shape[1] - 3 + j)]),ignore_index = True)\n",
    "            dat2[name_list[k]] = part\n",
    "            k += 1\n",
    "    return dat2\n"
   ]
  },
  {
   "cell_type": "code",
   "execution_count": 9,
   "metadata": {},
   "outputs": [],
   "source": [
    "def preprocess(data , no_p = 389):\n",
    "\n",
    "    ticker = data.SYMBOL.unique()\n",
    "    n_ticker = len(ticker)\n",
    "    \n",
    "    data_tmp = data['TIME']\n",
    "    data_tmp = data_tmp.str.slice(start = 0,stop = -3)\n",
    "    data[\"TIME\"] = data_tmp\n",
    "    \n",
    "    data_c = data.groupby([\"SYMBOL\",\"TIME\"]).last()        # get the last price of each minute as price of each minute\n",
    "    data_BB = data_c.BB\n",
    "    data_BO = data_c.BO\n",
    "    data_BB = data_BB.unstack()\n",
    "    data_BO = data_BO.unstack()\n",
    "    data_price = (data_BB + data_BO) / 2    # mean of NBBO as stock price at t\n",
    "    \n",
    "    data_price = data_price.reindex_axis(sorted(data_price.columns, key = lambda x: (len(x),x)), axis = 1)\n",
    "\n",
    "    dat = np.log(data_price) - np.log(data_price.shift(1 , axis = 1)) \n",
    "\n",
    "    dat = dat.iloc[:,1:]              # remove the column of 9:30 \n",
    "    \n",
    "    \n",
    "    #####-------can be deleted when running full data-------#####\n",
    "    dat = dat.iloc[ : , : no_p]\n",
    "\n",
    "    dat = dat.fillna(0)   # impute NULL with 0\n",
    "    \n",
    "    SYM = list(ticker) * (dat.shape[1] - 3)\n",
    "    SYM.sort()\n",
    "\n",
    "\n",
    "    returns = find_return(dat , SYM)        # form dataframe of returns with 1st column ticker name, 2nd column minute return, all stocks in the same column\n",
    "    \n",
    "    name_list1 = [\"RETURN 3 MINS BEFORE\", \"RETURN 2 MINS BEFORE\", \"RETURN 1 MINS BEFORE\"]\n",
    "    name_list2 = sorted(list(set(SYM)))\n",
    "\n",
    "    name_list = []\n",
    "    for i in name_list2:\n",
    "        for j in name_list1:\n",
    "            name_list.append(i + ' ' + j)\n",
    "    \n",
    "\n",
    "    data_variable = pd.DataFrame(columns = name_list)\n",
    "    \n",
    "    data_0 = assign_variable(dat,data_variable,name_list)\n",
    "\n",
    "\n",
    "    return data_0 , dat, returns , n_ticker , ticker \n"
   ]
  },
  {
   "cell_type": "code",
   "execution_count": 10,
   "metadata": {},
   "outputs": [],
   "source": [
    "# use first no_p data_0, can be deleted when running full data\n",
    "# no_stock: number of stocks to be predicted\n",
    "# data: original nbbo_20141201 data\n",
    "# fold: cv folds\n",
    "# python3.7 use version = 1, python 3.6 , use version = 0 \n",
    "def lasso_stock(data, fold, no_stock ,seed, lamb_range = None, no_p = 389 ,version = 0):\n",
    "    \n",
    "    data_0 , dat, returns , n_ticker , ticker = preprocess(data)\n",
    "\n",
    "    \n",
    "    nr = data_0.shape[0]      # 386 if the data is whole day 9:34 - 15:59\n",
    "    n_pred = nr - 30     # no. of predictions per stock\n",
    "\n",
    "    \n",
    "    if np.isfinite(data_0).sum().sum() != data_0.shape[0] * data_0.shape[1]:\n",
    "        return 'There is infinite number.'\n",
    "    else:\n",
    "        \n",
    "        smp = rand_ticker(n_ticker , ticker , no_stock , seed)\n",
    "        \n",
    "        # for LASSO\n",
    "        pred = np.empty([n_pred, no_stock])\n",
    "        lamb = np.empty([n_pred, no_stock])\n",
    "        num_var = np.empty([n_pred, no_stock])\n",
    "        \n",
    "        r2_adj = np.empty(no_stock) \n",
    "        \n",
    "        \n",
    "        # for AR(3)\n",
    "        pred_ar = np.empty([n_pred, no_stock])\n",
    "        r2_adj_ar = np.empty(no_stock) \n",
    "        \n",
    "        \n",
    "        # for LASSO & AR(3)\n",
    "        r2_adj_comb = np.empty(no_stock) \n",
    "                   \n",
    "        \n",
    "        # for portfolio weight calculation\n",
    "        sd_lasso = np.empty([n_pred, no_stock])\n",
    "        \n",
    "        \n",
    "        for i in range(no_stock):\n",
    "            \n",
    "            y = returns[returns.SYM_ROOT == smp[i]].iloc[ : , version]  # when run in school computer, use 0; use macbook, use 1 here\n",
    "            \n",
    "            # for fit AR(3)\n",
    "            dat_use = dat.loc[smp[i]]\n",
    "            dat_ar = pd.DataFrame(columns = ['3min','2min','1min','return'])\n",
    "            dat_ar['3min'] = np.array(dat_use.iloc[ : (no_p - 3)])\n",
    "            dat_ar['2min'] = np.array(dat_use.iloc[1 : (no_p - 2)])\n",
    "            dat_ar['1min'] = np.array(dat_use.iloc[2 : (no_p - 1)])\n",
    "            dat_ar['return'] = np.array(dat_use.iloc[3 : no_p]) \n",
    "            \n",
    "\n",
    "\n",
    "            for j in range(n_pred):\n",
    "\n",
    "                train_X = data_0.iloc[j : (j + 30) , : ]\n",
    "                test_X = data_0.iloc[j + 30 , : ].values.reshape(1 , -1)  # reshape(1 , -1) when test data has only one observation\n",
    "\n",
    "                train_y = y[j : (j + 30)]\n",
    "\n",
    "                # fit lassoCV\n",
    "                fit = LassoCV(random_state = 0 , cv = fold , alphas = lamb_range).fit(train_X , train_y)\n",
    "                \n",
    "                \n",
    "                pred[j , i] = fit.predict(X = test_X)\n",
    "                lamb[j , i] = fit.alpha_\n",
    "                num_var[j , i] = sum(fit.coef_ != 0)\n",
    "                \n",
    "                # in sample standard deviation of lasso\n",
    "                sd_lasso[j , i] = np.std(train_y)\n",
    "                \n",
    "                # fit AR(3)\n",
    "                train_ar = dat_ar.iloc[j : (j + 30) , :3 ]\n",
    "                \n",
    "                ##---version difference: add values. for mac----###\n",
    "                test_ar = dat_ar.iloc[j + 30 , : 3].values.reshape(1 , -1)   # reshape since only one observation for test\n",
    "                train_ar_y = dat_ar.iloc[j : (j + 30) , 3 ]\n",
    "                \n",
    "                fit_ar = LinearRegression().fit(train_ar , train_ar_y)\n",
    "                pred_ar[j , i] = fit_ar.predict(X = test_ar)\n",
    "                \n",
    "                \n",
    "            # calculate lasso R^2\n",
    "            true_return = y[30 : ]\n",
    "            lr_lasso = LinearRegression().fit(pred[ : , i].reshape(-1 , 1) , true_return)\n",
    "            r2 = lr_lasso.score(pred[ : , i].reshape(-1 , 1) , true_return)\n",
    "            r2_adj[i] = 1 - (1 - r2) * (n_pred - 1) / (n_pred - 2)\n",
    "            \n",
    "            \n",
    "            # calculate AR3 R^2\n",
    "            lr_ar = LinearRegression().fit(pred_ar[ : , i].reshape(-1 , 1) , dat_ar['return'][30:])\n",
    "            r2_ar = lr_ar.score(pred_ar[ : , i].reshape(-1 , 1) , dat_ar['return'][30:])\n",
    "            r2_adj_ar[i] = 1 - (1 - r2_ar) * (n_pred - 1) / (n_pred - 2)\n",
    "            \n",
    "            \n",
    "            # calculate multiple R^2\n",
    "            ar_lasso = pd.DataFrame(columns = ['lasso_pred' ,'ar_pred'])\n",
    "            ar_lasso['lasso_pred'] = np.array(pred[:,i])\n",
    "            ar_lasso['ar_pred'] = np.array(pred_ar[:,i])\n",
    "            lr_lasso_ar = LinearRegression().fit(ar_lasso , true_return)\n",
    "            r2_lasso_ar = lr_lasso_ar.score(ar_lasso , true_return)\n",
    "            r2_adj_comb[i] = 1 - (1 - r2_lasso_ar) * (n_pred - 1) / (n_pred - 2)\n",
    "            \n",
    "        return lamb , num_var , r2_adj , r2_adj_ar , r2_adj_comb , sd_lasso , smp\n"
   ]
  },
  {
   "cell_type": "code",
   "execution_count": 11,
   "metadata": {},
   "outputs": [],
   "source": [
    "date = ['01' , '02' ,'03' ,'04' ,'05' ,'08' ,'09' ,'10' ,'11' ,'12' ,'15' ,'16' ,'17' ,'18' ,'19' ,'22' ,'23' ,'24' ,'29' , '30' , '31']\n",
    "\n"
   ]
  },
  {
   "cell_type": "code",
   "execution_count": 12,
   "metadata": {},
   "outputs": [],
   "source": [
    "def loop_cv(date , no_stock , seed , lamb_range = None, fold = 3):\n",
    "    n = len(date)\n",
    "    lamb_0 = np.empty([no_stock , n])\n",
    "    num_var_0 = np.empty([no_stock , n])\n",
    "    r2_adj_0 = np.empty([no_stock , n])\n",
    "    r2_adj_ar0 = np.empty([no_stock , n])\n",
    "    r2_adj_comb0 = np.empty([no_stock , n])\n",
    "    \n",
    "    for i in range(len(date)):\n",
    "        dat_name = 'nbbo_201412' + date[i] + '.csv'\n",
    "        data = pd.read_csv(dat_name)\n",
    "        lamb_tmp , num_var_tmp , r2_adj_tmp , r2_adj_ar_tmp , r2_adj_comb_tmp , sd_lasso0 , smp = lasso_stock(data, fold , no_stock , seed, lamb_range)\n",
    "        \n",
    "        lamb_0[ : , i] = np.mean(lamb_tmp , axis = 0)\n",
    "        num_var_0[ : , i] = np.mean(num_var_tmp , axis = 0)\n",
    "        r2_adj_0[ : , i] = r2_adj_tmp\n",
    "        r2_adj_ar0[ : , i] =  r2_adj_ar_tmp\n",
    "        r2_adj_comb0[ : , i] = r2_adj_comb_tmp\n",
    "        \n",
    "        sd_lasso0 = pd.DataFrame(sd_lasso0)\n",
    "        save_sd_name = 'sd_ls_201412' + date[i] + '.csv'\n",
    "        sd_lasso0.to_csv(save_sd_name)\n",
    "        \n",
    "    return lamb_0 , num_var_0 ,  r2_adj_0 , r2_adj_ar0 , r2_adj_comb0\n",
    "        \n",
    "        \n",
    "        "
   ]
  },
  {
   "cell_type": "code",
   "execution_count": null,
   "metadata": {
    "collapsed": true
   },
   "outputs": [],
   "source": []
  },
  {
   "cell_type": "markdown",
   "metadata": {},
   "source": [
    " "
   ]
  },
  {
   "cell_type": "markdown",
   "metadata": {},
   "source": [
    " "
   ]
  },
  {
   "cell_type": "markdown",
   "metadata": {},
   "source": [
    "Below are the same codes but just changing the date and variable names. We can get the same result by simply using date0 = date[:7] and just run the first section, but since data for each single day takes 3-4 hours to run, I run it on the computer in school's library, I cannot ensure no interruption or no leaving. So I seperate it and run it one by one."
   ]
  },
  {
   "cell_type": "code",
   "execution_count": 34,
   "metadata": {},
   "outputs": [],
   "source": [
    "date0 = date[:1]\n",
    "lamb_1 , num_var_1 , r2_adj_1 , r2_adj_ar1 , r2_adj_comb1 = loop_cv(date0 , 50 , 5)"
   ]
  },
  {
   "cell_type": "code",
   "execution_count": 38,
   "metadata": {
    "collapsed": true
   },
   "outputs": [],
   "source": [
    "lamb_1 = pd.DataFrame(lamb_1)\n",
    "lamb_1.to_csv('lambda1.csv')\n",
    "num_var_1 = pd.DataFrame(num_var_1)\n",
    "num_var_1.to_csv('num_var1.csv')\n",
    "r2_adj_1 = pd.DataFrame(r2_adj_1)\n",
    "r2_adj_1.to_csv('r2_adj1.csv')\n",
    "r2_adj_ar1 = pd.DataFrame(r2_adj_ar1)\n",
    "r2_adj_ar1.to_csv('r2_adj_ar1.csv')\n",
    "r2_adj_comb1 = pd.DataFrame(r2_adj_comb1)\n",
    "r2_adj_comb1.to_csv('r2_adj_comb1.csv')"
   ]
  },
  {
   "cell_type": "code",
   "execution_count": 40,
   "metadata": {
    "scrolled": true
   },
   "outputs": [
    {
     "name": "stdout",
     "output_type": "stream",
     "text": [
      "np.mean(lamb_1) 0    2.679628e-07\n",
      "dtype: float64\n",
      "np.mean(num_var_1) 0    3.898989\n",
      "dtype: float64\n",
      "np.mean(r2_adj_1) 0    0.001837\n",
      "dtype: float64\n",
      "np.mean(r2_adj_ar1) 0    0.002655\n",
      "dtype: float64\n",
      "np.mean(r2_adj_comb1) 0    0.006788\n",
      "dtype: float64\n"
     ]
    }
   ],
   "source": [
    "print(\"np.mean(lamb_1)\", np.mean(lamb_1))\n",
    "print(\"np.mean(num_var_1)\", np.mean(num_var_1))\n",
    "print(\"np.mean(r2_adj_1)\", np.mean(r2_adj_1))\n",
    "print(\"np.mean(r2_adj_ar1)\", np.mean(r2_adj_ar1))\n",
    "print(\"np.mean(r2_adj_comb1)\", np.mean(r2_adj_comb1))\n"
   ]
  },
  {
   "cell_type": "code",
   "execution_count": null,
   "metadata": {
    "collapsed": true
   },
   "outputs": [],
   "source": [
    "np.mean(lamb_1)"
   ]
  },
  {
   "cell_type": "code",
   "execution_count": null,
   "metadata": {
    "collapsed": true
   },
   "outputs": [],
   "source": []
  },
  {
   "cell_type": "code",
   "execution_count": 11,
   "metadata": {},
   "outputs": [],
   "source": [
    "start = time.time()\n",
    "date1 = date[1:2]\n",
    "lamb_2 , num_var_2 , r2_adj_2 , r2_adj_ar2 , r2_adj_comb2 = loop_cv(date1 , 50 , 5)\n",
    "end = time.time()"
   ]
  },
  {
   "cell_type": "code",
   "execution_count": 12,
   "metadata": {
    "collapsed": true
   },
   "outputs": [],
   "source": [
    "lamb_2 = pd.DataFrame(lamb_2)\n",
    "lamb_2.to_csv('lambda2.csv')\n",
    "num_var_2 = pd.DataFrame(num_var_2)\n",
    "num_var_2.to_csv('num_var2.csv')\n",
    "r2_adj_2 = pd.DataFrame(r2_adj_2)\n",
    "r2_adj_2.to_csv('r2_adj2.csv')\n",
    "r2_adj_ar2 = pd.DataFrame(r2_adj_ar2)\n",
    "r2_adj_ar2.to_csv('r2_adj_ar2.csv')\n",
    "r2_adj_comb2 = pd.DataFrame(r2_adj_comb2)\n",
    "r2_adj_comb2.to_csv('r2_adj_comb2.csv')"
   ]
  },
  {
   "cell_type": "code",
   "execution_count": 15,
   "metadata": {},
   "outputs": [
    {
     "name": "stdout",
     "output_type": "stream",
     "text": [
      "np.mean(lamb_2) 0    2.427635e-07\n",
      "dtype: float64\n",
      "np.mean(num_var_2) 0    3.385899\n",
      "dtype: float64\n",
      "np.mean(r2_adj_2) 0    0.000878\n",
      "dtype: float64\n",
      "np.mean(r2_adj_ar2) 0    0.000941\n",
      "dtype: float64\n",
      "np.mean(r2_adj_comb2) 0    0.00495\n",
      "dtype: float64\n",
      "Time for 50 stocks per day:  4.035016413066122\n"
     ]
    }
   ],
   "source": [
    "print(\"np.mean(lamb_2)\", np.mean(lamb_2))\n",
    "print(\"np.mean(num_var_2)\", np.mean(num_var_2))\n",
    "print(\"np.mean(r2_adj_2)\", np.mean(r2_adj_2))\n",
    "print(\"np.mean(r2_adj_ar2)\", np.mean(r2_adj_ar2))\n",
    "print(\"np.mean(r2_adj_comb2)\", np.mean(r2_adj_comb2))\n",
    "print('Time for 50 stocks per day: ', (end - start)/3600)"
   ]
  },
  {
   "cell_type": "code",
   "execution_count": null,
   "metadata": {
    "collapsed": true
   },
   "outputs": [],
   "source": []
  },
  {
   "cell_type": "code",
   "execution_count": null,
   "metadata": {
    "collapsed": true
   },
   "outputs": [],
   "source": []
  },
  {
   "cell_type": "code",
   "execution_count": 16,
   "metadata": {
    "collapsed": true
   },
   "outputs": [],
   "source": [
    "start1 = time.time()\n",
    "date2 = date[2:3]\n",
    "lamb_3 , num_var_3 , r2_adj_3 , r2_adj_ar3 , r2_adj_comb3 = loop_cv(date2 , 50 , 5)\n",
    "end1 = time.time()"
   ]
  },
  {
   "cell_type": "code",
   "execution_count": 17,
   "metadata": {
    "collapsed": true
   },
   "outputs": [],
   "source": [
    "lamb_3 = pd.DataFrame(lamb_3)\n",
    "lamb_3.to_csv('lambda3.csv')\n",
    "num_var_3 = pd.DataFrame(num_var_3)\n",
    "num_var_3.to_csv('num_var3.csv')\n",
    "r2_adj_3 = pd.DataFrame(r2_adj_3)\n",
    "r2_adj_3.to_csv('r2_adj3.csv')\n",
    "r2_adj_ar3 = pd.DataFrame(r2_adj_ar3)\n",
    "r2_adj_ar3.to_csv('r2_adj_ar3.csv')\n",
    "r2_adj_comb3 = pd.DataFrame(r2_adj_comb3)\n",
    "r2_adj_comb3.to_csv('r2_adj_comb3.csv')"
   ]
  },
  {
   "cell_type": "code",
   "execution_count": 18,
   "metadata": {},
   "outputs": [
    {
     "name": "stdout",
     "output_type": "stream",
     "text": [
      "np.mean(lamb_3) 0    2.630656e-07\n",
      "dtype: float64\n",
      "np.mean(num_var_3) 0    3.467921\n",
      "dtype: float64\n",
      "np.mean(r2_adj_3) 0    0.0006\n",
      "dtype: float64\n",
      "np.mean(r2_adj_ar2) 0    0.002724\n",
      "dtype: float64\n",
      "np.mean(r2_adj_comb3) 0    0.005992\n",
      "dtype: float64\n",
      "Time for 50 stocks per day:  4.289340320958032\n"
     ]
    }
   ],
   "source": [
    "print(\"np.mean(lamb_3)\", np.mean(lamb_3))\n",
    "print(\"np.mean(num_var_3)\", np.mean(num_var_3))\n",
    "print(\"np.mean(r2_adj_3)\", np.mean(r2_adj_3))\n",
    "print(\"np.mean(r2_adj_ar2)\", np.mean(r2_adj_ar3))\n",
    "print(\"np.mean(r2_adj_comb3)\", np.mean(r2_adj_comb3))\n",
    "print('Time for 50 stocks per day: ', (end1 - start1)/3600)"
   ]
  },
  {
   "cell_type": "code",
   "execution_count": null,
   "metadata": {
    "collapsed": true
   },
   "outputs": [],
   "source": []
  },
  {
   "cell_type": "code",
   "execution_count": 10,
   "metadata": {
    "collapsed": true
   },
   "outputs": [],
   "source": [
    "start2 = time.time()\n",
    "date3 = date[3:4]\n",
    "lamb_4 , num_var_4 , r2_adj_4 , r2_adj_ar4 , r2_adj_comb4 = loop_cv(date3 , 50 , 5)\n",
    "end2 = time.time()"
   ]
  },
  {
   "cell_type": "code",
   "execution_count": 11,
   "metadata": {
    "collapsed": true
   },
   "outputs": [],
   "source": [
    "lamb_4 = pd.DataFrame(lamb_4)\n",
    "lamb_4.to_csv('lambda4.csv')\n",
    "num_var_4 = pd.DataFrame(num_var_4)\n",
    "num_var_4.to_csv('num_var4.csv')\n",
    "r2_adj_4 = pd.DataFrame(r2_adj_4)\n",
    "r2_adj_4.to_csv('r2_adj4.csv')\n",
    "r2_adj_ar4 = pd.DataFrame(r2_adj_ar4)\n",
    "r2_adj_ar4.to_csv('r2_adj_ar4.csv')\n",
    "r2_adj_comb4 = pd.DataFrame(r2_adj_comb4)\n",
    "r2_adj_comb4.to_csv('r2_adj_comb4.csv')"
   ]
  },
  {
   "cell_type": "code",
   "execution_count": 13,
   "metadata": {},
   "outputs": [
    {
     "name": "stdout",
     "output_type": "stream",
     "text": [
      "np.mean(lamb_4) 0    2.152720e-07\n",
      "dtype: float64\n",
      "np.mean(num_var_4) 0    3.446854\n",
      "dtype: float64\n",
      "np.mean(r2_adj_4) 0    0.000246\n",
      "dtype: float64\n",
      "np.mean(r2_adj_ar4) 0    0.002992\n",
      "dtype: float64\n",
      "np.mean(r2_adj_comb4) 0    0.005948\n",
      "dtype: float64\n",
      "Time for 50 stocks per day:  2.9872699840863546\n"
     ]
    }
   ],
   "source": [
    "print(\"np.mean(lamb_4)\", np.mean(lamb_4))\n",
    "print(\"np.mean(num_var_4)\", np.mean(num_var_4))\n",
    "print(\"np.mean(r2_adj_4)\", np.mean(r2_adj_4))\n",
    "print(\"np.mean(r2_adj_ar4)\", np.mean(r2_adj_ar4))\n",
    "print(\"np.mean(r2_adj_comb4)\", np.mean(r2_adj_comb4))\n",
    "print('Time for 50 stocks per day: ', (end2 - start2)/3600)"
   ]
  },
  {
   "cell_type": "code",
   "execution_count": null,
   "metadata": {
    "collapsed": true
   },
   "outputs": [],
   "source": []
  },
  {
   "cell_type": "code",
   "execution_count": 15,
   "metadata": {},
   "outputs": [],
   "source": [
    "start3 = time.time()\n",
    "date4 = date[4:5]\n",
    "lamb_5 , num_var_5 , r2_adj_5 , r2_adj_ar5 , r2_adj_comb5 = loop_cv(date4 , 50 , 5)\n",
    "end3 = time.time()"
   ]
  },
  {
   "cell_type": "code",
   "execution_count": 16,
   "metadata": {
    "collapsed": true
   },
   "outputs": [],
   "source": [
    "lamb_5 = pd.DataFrame(lamb_5)\n",
    "lamb_5.to_csv('lambda5.csv')\n",
    "num_var_5 = pd.DataFrame(num_var_5)\n",
    "num_var_5.to_csv('num_var5.csv')\n",
    "r2_adj_5 = pd.DataFrame(r2_adj_5)\n",
    "r2_adj_5.to_csv('r2_adj5.csv')\n",
    "r2_adj_ar5 = pd.DataFrame(r2_adj_ar5)\n",
    "r2_adj_ar5.to_csv('r2_adj_ar5.csv')\n",
    "r2_adj_comb5 = pd.DataFrame(r2_adj_comb5)\n",
    "r2_adj_comb5.to_csv('r2_adj_comb5.csv')"
   ]
  },
  {
   "cell_type": "code",
   "execution_count": 17,
   "metadata": {},
   "outputs": [
    {
     "name": "stdout",
     "output_type": "stream",
     "text": [
      "np.mean(lamb_5) 0    2.084580e-07\n",
      "dtype: float64\n",
      "np.mean(num_var_5) 0    3.596404\n",
      "dtype: float64\n",
      "np.mean(r2_adj_5) 0    0.001408\n",
      "dtype: float64\n",
      "np.mean(r2_adj_ar5) 0    0.002765\n",
      "dtype: float64\n",
      "np.mean(r2_adj_comb5) 0    0.007355\n",
      "dtype: float64\n",
      "Time for 50 stocks per day:  3.6316642542680104\n"
     ]
    }
   ],
   "source": [
    "print(\"np.mean(lamb_5)\", np.mean(lamb_5))\n",
    "print(\"np.mean(num_var_5)\", np.mean(num_var_5))\n",
    "print(\"np.mean(r2_adj_5)\", np.mean(r2_adj_5))\n",
    "print(\"np.mean(r2_adj_ar5)\", np.mean(r2_adj_ar5))\n",
    "print(\"np.mean(r2_adj_comb5)\", np.mean(r2_adj_comb5))\n",
    "print('Time for 50 stocks per day: ', (end3 - start3)/3600)"
   ]
  },
  {
   "cell_type": "code",
   "execution_count": null,
   "metadata": {
    "collapsed": true
   },
   "outputs": [],
   "source": []
  },
  {
   "cell_type": "code",
   "execution_count": 10,
   "metadata": {
    "collapsed": true
   },
   "outputs": [],
   "source": [
    "start4 = time.time()\n",
    "date5 = date[5:6]\n",
    "lamb_6 , num_var_6 , r2_adj_6 , r2_adj_ar6 , r2_adj_comb6 = loop_cv(date5 , 50 , 5)\n",
    "end4 = time.time()"
   ]
  },
  {
   "cell_type": "code",
   "execution_count": 12,
   "metadata": {
    "collapsed": true
   },
   "outputs": [],
   "source": [
    "lamb_6 = pd.DataFrame(lamb_6)\n",
    "lamb_6.to_csv('lambda6.csv')\n",
    "num_var_6 = pd.DataFrame(num_var_6)\n",
    "num_var_6.to_csv('num_var6.csv')\n",
    "r2_adj_6 = pd.DataFrame(r2_adj_6)\n",
    "r2_adj_6.to_csv('r2_adj6.csv')\n",
    "r2_adj_ar6 = pd.DataFrame(r2_adj_ar6)\n",
    "r2_adj_ar6.to_csv('r2_adj_ar6.csv')\n",
    "r2_adj_comb6 = pd.DataFrame(r2_adj_comb6)\n",
    "r2_adj_comb6.to_csv('r2_adj_comb6.csv')"
   ]
  },
  {
   "cell_type": "code",
   "execution_count": 13,
   "metadata": {},
   "outputs": [
    {
     "name": "stdout",
     "output_type": "stream",
     "text": [
      "np.mean(lamb_6) 0    2.536778e-07\n",
      "dtype: float64\n",
      "np.mean(num_var_6) 0    3.595787\n",
      "dtype: float64\n",
      "np.mean(r2_adj_6) 0    0.001447\n",
      "dtype: float64\n",
      "np.mean(r2_adj_ar6) 0    0.001582\n",
      "dtype: float64\n",
      "np.mean(r2_adj_comb6) 0    0.005757\n",
      "dtype: float64\n",
      "Time for 50 stocks per day:  2.98414255950186\n"
     ]
    }
   ],
   "source": [
    "print(\"np.mean(lamb_6)\", np.mean(lamb_6))\n",
    "print(\"np.mean(num_var_6)\", np.mean(num_var_6))\n",
    "print(\"np.mean(r2_adj_6)\", np.mean(r2_adj_6))\n",
    "print(\"np.mean(r2_adj_ar6)\", np.mean(r2_adj_ar6))\n",
    "print(\"np.mean(r2_adj_comb6)\", np.mean(r2_adj_comb6))\n",
    "print('Time for 50 stocks per day: ', (end4 - start4)/3600)"
   ]
  },
  {
   "cell_type": "code",
   "execution_count": null,
   "metadata": {
    "collapsed": true
   },
   "outputs": [],
   "source": []
  },
  {
   "cell_type": "code",
   "execution_count": null,
   "metadata": {
    "collapsed": true
   },
   "outputs": [],
   "source": []
  },
  {
   "cell_type": "markdown",
   "metadata": {
    "collapsed": true
   },
   "source": [
    " "
   ]
  },
  {
   "cell_type": "markdown",
   "metadata": {},
   "source": [
    "### Final results for 6 trading days are here."
   ]
  },
  {
   "cell_type": "code",
   "execution_count": 13,
   "metadata": {},
   "outputs": [
    {
     "name": "stdout",
     "output_type": "stream",
     "text": [
      "Mean of lambda is: 2.4186661666666664e-07\n",
      "Average number of variables is: 3.5653090000000005\n",
      "Mean of R2 for LASSO is:  0.0010693333333333334\n",
      "Mean of R2 for AR(3) is:  0.0022765\n",
      "Mean of R2 for LASSO + AR(3) is:  0.006131666666666666\n",
      "Additional variation explained by LASSO Compared to AR(3) is:  0.0038551666666666665\n"
     ]
    }
   ],
   "source": [
    "\n",
    "print('Mean of lambda is:', np.mean([2.679628e-07, 2.427635e-07, 2.630656e-07 , 2.152720e-07 , 2.084580e-07 , 2.536778e-07 ]))\n",
    "print('Average number of variables is:', np.mean([3.898989 , 3.385899 , 3.467921 , 3.446854 , 3.596404 , 3.595787]))\n",
    "\n",
    "R2_lasso = np.mean([0.001837 , 0.000878 , 0.0006 , 0.000246 , 0.001408 , 0.001447 ])\n",
    "R2_ar3 =  np.mean([0.002655 , 0.000941 , 0.002724, 0.002992 , 0.002765 , 0.001582 ])\n",
    "R2_comb =  np.mean([0.006788 , 0.00495 , 0.005992 , 0.005948 , 0.007355 , 0.005757 ])\n",
    "R2_partial = R2_comb - R2_ar3\n",
    "                   \n",
    "print('Mean of R2 for LASSO is: ', R2_lasso )\n",
    "print('Mean of R2 for AR(3) is: ',R2_ar3)\n",
    "print('Mean of R2 for LASSO + AR(3) is: ', R2_comb)\n",
    "print('Additional variation explained by LASSO Compared to AR(3) is: ', R2_partial)\n",
    "\n",
    "\n",
    "\n"
   ]
  },
  {
   "cell_type": "code",
   "execution_count": null,
   "metadata": {
    "collapsed": true
   },
   "outputs": [],
   "source": []
  },
  {
   "cell_type": "code",
   "execution_count": null,
   "metadata": {
    "collapsed": true
   },
   "outputs": [],
   "source": []
  },
  {
   "cell_type": "markdown",
   "metadata": {},
   "source": [
    " "
   ]
  },
  {
   "cell_type": "markdown",
   "metadata": {
    "collapsed": true
   },
   "source": [
    "## Part II. Fix lambda for 1.5 hours"
   ]
  },
  {
   "cell_type": "markdown",
   "metadata": {
    "collapsed": true
   },
   "source": [
    "Instead of modifying lambda every minute, we try to do CV on 1.5 hour estimation window and apply the optimal lambda to the next 1.5 hour"
   ]
  },
  {
   "cell_type": "code",
   "execution_count": null,
   "metadata": {
    "collapsed": true
   },
   "outputs": [],
   "source": [
    "def preprocess(data , no_p = 389):\n",
    "\n",
    "    ticker = data.SYMBOL.unique()\n",
    "    n_ticker = len(ticker)\n",
    "    \n",
    "    data_tmp = data['TIME']\n",
    "    data_tmp = data_tmp.str.slice(start = 0,stop = -3)\n",
    "    data[\"TIME\"] = data_tmp\n",
    "    \n",
    "    data_c = data.groupby([\"SYMBOL\",\"TIME\"]).last()        # get the last price of each minute as price of each minute\n",
    "    data_BB = data_c.BB\n",
    "    data_BO = data_c.BO\n",
    "    data_BB = data_BB.unstack()\n",
    "    data_BO = data_BO.unstack()\n",
    "    data_price = (data_BB + data_BO) / 2    # mean of NBBO as stock price at t\n",
    "    \n",
    "    data_price = data_price.reindex_axis(sorted(data_price.columns, key = lambda x: (len(x),x)), axis = 1)\n",
    "\n",
    "    dat = np.log(data_price) - np.log(data_price.shift(1 , axis = 1)) \n",
    "\n",
    "    dat = dat.iloc[:,1:]              # remove the column of 9:30 \n",
    "    \n",
    "    \n",
    "    #####-------can be deleted when running full data-------#####\n",
    "    dat = dat.iloc[ : , : no_p]\n",
    "\n",
    "    dat = dat.fillna(0)   # impute NULL with 0\n",
    "    \n",
    "    SYM = list(ticker) * (dat.shape[1] - 3)\n",
    "    SYM.sort()\n",
    "\n",
    "\n",
    "    returns = find_return(dat , SYM)        # form dataframe of returns with 1st column ticker name, 2nd column minute return, all stocks in the same column\n",
    "    \n",
    "    name_list1 = [\"RETURN 3 MINS BEFORE\", \"RETURN 2 MINS BEFORE\", \"RETURN 1 MINS BEFORE\"]\n",
    "    name_list2 = sorted(list(set(SYM)))\n",
    "\n",
    "    name_list = []\n",
    "    for i in name_list2:\n",
    "        for j in name_list1:\n",
    "            name_list.append(i + ' ' + j)\n",
    "    \n",
    "\n",
    "    data_variable = pd.DataFrame(columns = name_list)\n",
    "    \n",
    "    data_0 = assign_variable(dat,data_variable,name_list)\n",
    "\n",
    "\n",
    "    return data_0 , returns , n_ticker , ticker \n",
    "\n"
   ]
  },
  {
   "cell_type": "code",
   "execution_count": null,
   "metadata": {
    "collapsed": true
   },
   "outputs": [],
   "source": [
    "def long_time_cv(data, no_stock , seed , lamb_range = None, fold = 3):\n",
    "    \n",
    "    data_0 , returns , n_ticker , ticker = preprocess(data)\n",
    "\n",
    "    if np.isfinite(data_0).sum().sum() != data_0.shape[0] * data_0.shape[1]:\n",
    "        return 'There is infinite number.'\n",
    "    else:\n",
    "\n",
    "        smp = rand_ticker(n_ticker , ticker , no_stock , seed)\n",
    "        \n",
    "\n",
    "        nr = data_0.shape[0]  # 386\n",
    "        n_pred = nr - 90     # n_pred = 296\n",
    "\n",
    "\n",
    "        pred = np.empty([n_pred, no_stock])\n",
    "        lamb = np.empty([4, no_stock])\n",
    "        num_var = np.empty([n_pred, no_stock])\n",
    "        \n",
    "        r2_adj = np.empty(no_stock) \n",
    "        \n",
    "\n",
    "        for i in range(no_stock):\n",
    "\n",
    "            y = returns[returns.SYM_ROOT == smp[i]].iloc[ : , 0] \n",
    "\n",
    "\n",
    "            for j in range(4):\n",
    "                X_train = data_0.iloc[90 * j : (90 * (j + 1)) , :]\n",
    "                y_train = y[90 * j : (j + 1) * 90 ]\n",
    "                fit = LassoCV(random_state = 0 , cv = fold , alphas = lamb_range).fit(X_train , y_train)\n",
    "                lamb[j , i] = fit.alpha_\n",
    "                      \n",
    "                if j in range(0 , 3):\n",
    "                      \n",
    "                    for l in range(90 * j + 60 , 90 * j + 150):\n",
    "                        train = data_0.iloc[l : (l + 30) , : ]\n",
    "                        train_y = y[l : (l + 30) ]\n",
    "                        test = data_0.iloc[l + 30 , :].values.reshape(1 , -1)\n",
    "\n",
    "                        fit1 = Lasso(alpha = lamb[j, i]).fit(train , train_y)\n",
    "                        num_var[l - 90 * j - 60 , i] = sum(fit1.coef_ != 0)\n",
    "                        pred[l - 90 * j - 60 , i] = fit1.predict(test)\n",
    "\n",
    "\n",
    "                if j == 3:\n",
    "                    for l in range(90 * j + 60 , nr - 30):\n",
    "                        train = data_0.iloc[l : (l + 30) , : ]\n",
    "                        train_y = y[l : (l + 30) ]\n",
    "                        test = data_0.iloc[l + 30 , :].values.reshape(1 , -1)\n",
    "\n",
    "                        fit1 = Lasso(alpha = lamb[j, i]).fit(train , train_y)\n",
    "                        pred[l - 90 * j - 60 , i] = fit1.predict(test)\n",
    "                        num_var[l - 90 * j - 60 , i] = sum(fit1.coef_ != 0)\n",
    "\n",
    "            # calculate lasso R^2\n",
    "            true_return = y[90 : ]\n",
    "            lr_lasso = LinearRegression().fit(pred[ : , i].reshape(-1 , 1) , true_return)\n",
    "            r2 = lr_lasso.score(pred[ : , i].reshape(-1 , 1) , true_return)\n",
    "            r2_adj[i] = 1 - (1 - r2) * (n_pred - 1) / (n_pred - 2)\n",
    "        \n",
    "        return pred , lamb , num_var , r2_adj \n",
    "\n",
    "  "
   ]
  },
  {
   "cell_type": "code",
   "execution_count": null,
   "metadata": {
    "collapsed": true
   },
   "outputs": [],
   "source": [
    "def loop_over_time(date , no_stock , seed , lamb_range = None , fold = 3):\n",
    "    n = len(date)\n",
    "    lamb_0 = np.empty([no_stock , n])\n",
    "    num_var_0 = np.empty([no_stock , n])\n",
    "    r2_adj_0 = np.empty([no_stock , n])\n",
    "    \n",
    "    for i in range(len(date)):\n",
    "        dat_name = 'nbbo_201412' + date[i] + '.csv'\n",
    "        data = pd.read_csv(dat_name)\n",
    "        pred_tmp , lamb_tmp , num_var_tmp , r2_adj_tmp  = long_time_cv(data , no_stock , seed , lamb_range , fold)\n",
    "        lamb_0[ : , i] = np.mean(lamb_tmp , axis = 0)\n",
    "        num_var_0[ : , i] = np.mean(num_var_tmp , axis = 0)\n",
    "        r2_adj_0[ : , i] = r2_adj_tmp\n",
    "        \n",
    "    return lamb_0 , num_var_0 , r2_adj_0"
   ]
  },
  {
   "cell_type": "code",
   "execution_count": null,
   "metadata": {
    "collapsed": true
   },
   "outputs": [],
   "source": [
    "date0 = date[:5]\n",
    "lamb_1 , num_var_1 , r2_adj_1 = loop_over_time(date0 , 150 , 5)"
   ]
  },
  {
   "cell_type": "code",
   "execution_count": null,
   "metadata": {
    "collapsed": true
   },
   "outputs": [],
   "source": [
    "print('By fixing lambda for 1.5 hours, mean of R2 is ', np.mean(np.mean(r2_adj_1)))"
   ]
  },
  {
   "cell_type": "code",
   "execution_count": null,
   "metadata": {
    "collapsed": true
   },
   "outputs": [],
   "source": []
  },
  {
   "cell_type": "markdown",
   "metadata": {
    "collapsed": true
   },
   "source": [
    " "
   ]
  },
  {
   "cell_type": "markdown",
   "metadata": {},
   "source": [
    " "
   ]
  },
  {
   "cell_type": "markdown",
   "metadata": {
    "collapsed": true
   },
   "source": [
    "# Part III. Long-lived predictors"
   ]
  },
  {
   "cell_type": "markdown",
   "metadata": {},
   "source": [
    "Use iShare market ETF as market return, Russell 1000 as size return and Russell 2000 as value return "
   ]
  },
  {
   "cell_type": "code",
   "execution_count": 24,
   "metadata": {},
   "outputs": [],
   "source": [
    "def preprocess_returns(data , no_p = 389):\n",
    "\n",
    "    ticker = data.SYMBOL.unique()\n",
    "    n_ticker = len(ticker)\n",
    "    \n",
    "    data_tmp = data['TIME']\n",
    "    data_tmp = data_tmp.str.slice(start = 0,stop = -3)\n",
    "    data[\"TIME\"] = data_tmp\n",
    "    \n",
    "    data_c = data.groupby([\"SYMBOL\",\"TIME\"]).last()        # get the last price of each minute as price of each minute\n",
    "    data_BB = data_c.BB\n",
    "    data_BO = data_c.BO\n",
    "    data_BB = data_BB.unstack()\n",
    "    data_BO = data_BO.unstack()\n",
    "    data_price = (data_BB + data_BO) / 2    # mean of NBBO as stock price at t\n",
    "    \n",
    "    data_price = data_price.reindex_axis(sorted(data_price.columns, key = lambda x: (len(x),x)), axis = 1)\n",
    "\n",
    "    dat = np.log(data_price) - np.log(data_price.shift(1 , axis = 1)) \n",
    "\n",
    "    dat = dat.iloc[:,1:]              # remove the column of 9:30 \n",
    "    \n",
    "    \n",
    "    #####-------can be deleted when running full data-------#####\n",
    "    dat = dat.iloc[ : , : no_p]\n",
    "\n",
    "    dat = dat.fillna(0)   # impute NULL with 0\n",
    "    \n",
    "    SYM = list(ticker) * (dat.shape[1] - 3)\n",
    "    SYM.sort()\n",
    "\n",
    "\n",
    "    returns = find_return(dat , SYM)        # form dataframe of returns with 1st column ticker name, 2nd column minute return, all stocks in the same column\n",
    "\n",
    "    return returns, n_ticker , ticker\n"
   ]
  },
  {
   "cell_type": "code",
   "execution_count": 25,
   "metadata": {},
   "outputs": [],
   "source": [
    "def preprocess_X(data , no_p = 389):\n",
    "\n",
    "    ticker = data.SYMBOL.unique()\n",
    "    n_ticker = len(ticker)\n",
    "    \n",
    "    data_tmp = data['TIME']\n",
    "    data_tmp = data_tmp.str.slice(start = 0,stop = -3)\n",
    "    data[\"TIME\"] = data_tmp\n",
    "    \n",
    "    data_c = data.groupby([\"SYMBOL\",\"TIME\"]).last()        # get the last price of each minute as price of each minute\n",
    "    data_BB = data_c.BB\n",
    "    data_BO = data_c.BO\n",
    "    data_BB = data_BB.unstack()\n",
    "    data_BO = data_BO.unstack()\n",
    "    data_price = (data_BB + data_BO) / 2    # mean of NBBO as stock price at t\n",
    "    \n",
    "    data_price = data_price.reindex_axis(sorted(data_price.columns, key = lambda x: (len(x),x)), axis = 1)\n",
    "\n",
    "    dat = np.log(data_price) - np.log(data_price.shift(1 , axis = 1)) \n",
    "\n",
    "    dat = dat.iloc[:,1:]              # remove the column of 9:30 \n",
    "    \n",
    "    \n",
    "    #####-------can be deleted when running full data-------#####\n",
    "    dat = dat.iloc[ : , : no_p]\n",
    "\n",
    "    dat = dat.fillna(0)   # impute NULL with 0\n",
    "    \n",
    "    SYM = list(ticker) * (dat.shape[1] - 3)\n",
    "    SYM.sort()\n",
    "\n",
    "    name_list1 = [\"RETURN 3 MINS BEFORE\", \"RETURN 2 MINS BEFORE\", \"RETURN 1 MINS BEFORE\"]\n",
    "    name_list2 = sorted(list(set(SYM)))\n",
    "\n",
    "    name_list = []\n",
    "    for i in name_list2:\n",
    "        for j in name_list1:\n",
    "            name_list.append(i + ' ' + j)\n",
    "    \n",
    "\n",
    "    data_variable = pd.DataFrame(columns = name_list)\n",
    "    \n",
    "    data_0 = assign_variable(dat,data_variable,name_list)\n",
    "\n",
    "\n",
    "    return data_0 , dat\n"
   ]
  },
  {
   "cell_type": "code",
   "execution_count": 26,
   "metadata": {},
   "outputs": [],
   "source": [
    "# data1 for NYSE listed stocks\n",
    "# data2 for long-lived 3 predictors\n",
    "\n",
    "def long_lived(data1, data2, no_stock ,seed, version = 0):\n",
    "    \n",
    "    returns , n_ticker, ticker = preprocess_returns(data1)\n",
    "    data_0 , dat0 = preprocess_X(data2)\n",
    "    \n",
    "    nr = data_0.shape[0]      # 386 if the data is whole day 9:34 - 15:59\n",
    "    n_pred = nr - 30     # no. of predictions per stock\n",
    "\n",
    "    \n",
    "    if np.isfinite(data_0).sum().sum() != data_0.shape[0] * data_0.shape[1]:\n",
    "        return 'There is infinite number.'\n",
    "    else:\n",
    "        \n",
    "        smp = rand_ticker(n_ticker , ticker , no_stock , seed)\n",
    "        \n",
    "        pred = np.empty([n_pred, no_stock])\n",
    "\n",
    "        r2_adj = np.empty(no_stock) \n",
    "        \n",
    "        for i in range(no_stock):\n",
    "            \n",
    "            # when run in school computer (python3.6), use 0; use macbook (python 3.7), use 1 here\n",
    "            y = returns[returns.SYM_ROOT == smp[i]].iloc[ : , version]  \n",
    "\n",
    "            for j in range(n_pred):\n",
    "\n",
    "                train_X = data_0.iloc[j : (j + 30) , : ]\n",
    "                test_X = data_0.iloc[j + 30 , : ].values.reshape(1 , -1)  # reshape(1 , -1) when test data has only one observation\n",
    "\n",
    "                train_y = y[j : (j + 30)]\n",
    "\n",
    "                # fit simple linear regression\n",
    "                fit =  LinearRegression().fit(train_X , train_y)\n",
    "                              \n",
    "                pred[j , i] = fit.predict(X = test_X)      \n",
    "                \n",
    "            # calculate R^2\n",
    "            true_return = y[30 : ]\n",
    "            lr = LinearRegression().fit(pred[ : , i].reshape(-1 , 1) , true_return)\n",
    "            r2 = lr.score(pred[ : , i].reshape(-1 , 1) , true_return)\n",
    "            r2_adj[i] = 1 - (1 - r2) * (n_pred - 1) / (n_pred - 2)            \n",
    "                        \n",
    "        return  r2_adj "
   ]
  },
  {
   "cell_type": "code",
   "execution_count": 29,
   "metadata": {},
   "outputs": [],
   "source": [
    "def loop_market(date , no_stock , seed , lamb_range = None, fold = 3):\n",
    "    n = len(date)\n",
    "    r2_adj_0 = np.empty([no_stock , n])\n",
    "    for i in range(len(date)):\n",
    "        dat_name1 = 'nbbo_201412' + date[i] + '.csv'\n",
    "        data1 = pd.read_csv(dat_name1)\n",
    "        dat_name2 = 'market_201412' + date[i] + '.csv'\n",
    "        data2 = pd.read_csv(dat_name2)\n",
    "        \n",
    "        r2_adj_tmp = long_lived(data1, data2, no_stock , seed , version = 1)\n",
    "        r2_adj_0[ : , i] = r2_adj_tmp\n",
    "        \n",
    "    return r2_adj_0 \n",
    "   "
   ]
  },
  {
   "cell_type": "code",
   "execution_count": 31,
   "metadata": {
    "scrolled": true
   },
   "outputs": [],
   "source": [
    "start_0 = time.time()\n",
    "date_0 = date[:3]\n",
    "r2_adj_market = loop_market(date_0 , 50 , 5)\n",
    "end_0 = time.time()"
   ]
  },
  {
   "cell_type": "code",
   "execution_count": 32,
   "metadata": {},
   "outputs": [
    {
     "name": "stdout",
     "output_type": "stream",
     "text": [
      "Mean of R2 by using long lived predictors are  0.0014358302920113915\n"
     ]
    }
   ],
   "source": [
    "print(\"Mean of R2 by using long lived predictors are \", np.mean(r2_adj_market))\n"
   ]
  },
  {
   "cell_type": "code",
   "execution_count": null,
   "metadata": {
    "collapsed": true
   },
   "outputs": [],
   "source": []
  },
  {
   "cell_type": "code",
   "execution_count": null,
   "metadata": {
    "collapsed": true
   },
   "outputs": [],
   "source": []
  }
 ],
 "metadata": {
  "kernelspec": {
   "display_name": "Python 3",
   "language": "python",
   "name": "python3"
  },
  "language_info": {
   "codemirror_mode": {
    "name": "ipython",
    "version": 3
   },
   "file_extension": ".py",
   "mimetype": "text/x-python",
   "name": "python",
   "nbconvert_exporter": "python",
   "pygments_lexer": "ipython3",
   "version": "3.6.3"
  }
 },
 "nbformat": 4,
 "nbformat_minor": 2
}
